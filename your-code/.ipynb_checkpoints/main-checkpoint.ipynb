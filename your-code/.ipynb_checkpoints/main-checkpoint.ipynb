{
 "cells": [
  {
   "cell_type": "markdown",
   "metadata": {},
   "source": [
    "# Intro to Bayesian Statistics Lab\n",
    "\n",
    "Complete the following set of exercises to solidify your knowledge of Bayesian statistics and Bayesian data analysis."
   ]
  },
  {
   "cell_type": "code",
   "execution_count": 1,
   "metadata": {},
   "outputs": [],
   "source": [
    "import pandas as pd\n",
    "import numpy as np\n",
    "import matplotlib.pyplot as plt"
   ]
  },
  {
   "cell_type": "markdown",
   "metadata": {},
   "source": [
    "## 1. Cookie Problem\n",
    "\n",
    "Suppose we have two bowls of cookies. Bowl 1 contains 30 vanilla cookies and 10 chocolate cookies. Bowl 2 contains 20 of each. You randomly pick one cookie out of one of the bowls, and it is vanilla. Use Bayes Theorem to calculate the probability that the vanilla cookie you picked came from Bowl 1?"
   ]
  },
  {
   "cell_type": "code",
   "execution_count": 7,
   "metadata": {},
   "outputs": [
    {
     "name": "stdout",
     "output_type": "stream",
     "text": [
      "La probabilidad de que la galleta de vainilla provenga del bowl 1 es 0.6\n"
     ]
    }
   ],
   "source": [
    "#Definimos función Bayesiana:\n",
    "def bayes (Pba,Pa,Pb):\n",
    "    return Pba*Pa/Pb\n",
    "\n",
    "#Obtenemos las probabilidades:\n",
    "#Probabilidad de tomar una galleta de vainilla dado que sea del bowl 1 P(B|A):\n",
    "#30/40 galletas = 0.75\n",
    "#Probabilidad de tomar una galleta (cualquiera) del bowl 1= 1/2 = 0.5 P(A)\n",
    "#Probabilidad de tomar una galleta de vainilla de cualquier bowl = 0.625 = 5/8 P(B)\n",
    "\n",
    "#Resultado\n",
    "vb1=bayes(0.75,0.5,0.625)\n",
    "\n",
    "print(f'La probabilidad de que la galleta de vainilla provenga del bowl 1 es {vb1}')"
   ]
  },
  {
   "cell_type": "markdown",
   "metadata": {},
   "source": [
    "What is the probability that it came from Bowl 2?"
   ]
  },
  {
   "cell_type": "code",
   "execution_count": 8,
   "metadata": {},
   "outputs": [
    {
     "name": "stdout",
     "output_type": "stream",
     "text": [
      "La probabilidad de que la galleta de vainilla provenga del bowl 1 es 0.4\n"
     ]
    }
   ],
   "source": [
    "#Obtenemos las probabilidades:\n",
    "#Probabilidad de tomar una galleta de vainilla dado que sea del bowl 2 P(B|A):\n",
    "#20/40 galletas = 0.5\n",
    "#Probabilidad de tomar una galleta (cualquiera) del bowl 2= 1/2 = 0.5 P(A)\n",
    "#Probabilidad de tomar una galleta de vainilla de cualquier bowl = 0.625 = 5/8 P(B)\n",
    "\n",
    "#Resultado\n",
    "vb2=bayes(0.5,0.5,0.625)\n",
    "\n",
    "print(f'La probabilidad de que la galleta de vainilla provenga del bowl 2 es {vb2}')"
   ]
  },
  {
   "cell_type": "markdown",
   "metadata": {},
   "source": [
    "What if the cookie you had picked was chocolate? What are the probabilities that the chocolate cookie came from Bowl 1 and Bowl 2 respectively?"
   ]
  },
  {
   "cell_type": "code",
   "execution_count": 10,
   "metadata": {},
   "outputs": [
    {
     "name": "stdout",
     "output_type": "stream",
     "text": [
      "La probabilidad de que la galleta de chocolate provenga del bowl 1 es 0.3333333333333333\n",
      "La probabilidad de que la galleta de chocolate provenga del bowl 2 es 0.6666666666666666\n"
     ]
    }
   ],
   "source": [
    "#Obtenemos las probabilidades del bowl 1:\n",
    "#Probabilidad de tomar una galleta de chocolate dado que sea del bowl 1 P(B|A):\n",
    "#10/40 galletas = 0.25\n",
    "#Probabilidad de tomar una galleta (cualquiera) del bowl 1= 1/2 = 0.5 P(A)\n",
    "#Probabilidad de tomar una galleta de chocolate de cualquier bowl = 0.375 = 3/8 P(B)\n",
    "\n",
    "#Resultado\n",
    "cb1=bayes(0.25,0.5,0.375)\n",
    "\n",
    "print(f'La probabilidad de que la galleta de chocolate provenga del bowl 1 es {cb1}')\n",
    "\n",
    "#Obtenemos las probabilidades del bowl 2:\n",
    "#Probabilidad de tomar una galleta de chocolate dado que sea del bowl 2 P(B|A):\n",
    "#10/40 galletas = 0.5\n",
    "#Probabilidad de tomar una galleta (cualquiera) del bowl 2= 1/2 = 0.5 P(A)\n",
    "#Probabilidad de tomar una galleta de chocolate de cualquier bowl = 0.375 = 3/8 P(B)\n",
    "\n",
    "#Resultado\n",
    "cb2=bayes(0.5,0.5,0.375)\n",
    "\n",
    "print(f'La probabilidad de que la galleta de chocolate provenga del bowl 2 es {cb2}')"
   ]
  },
  {
   "cell_type": "markdown",
   "metadata": {},
   "source": [
    "## 2. Candy Problem\n",
    "\n",
    "Suppose you have two bags of candies:\n",
    "\n",
    "- In Bag 1, the mix of colors is:\n",
    "    - Brown - 30%\n",
    "    - Yellow - 20%\n",
    "    - Red - 20%\n",
    "    - Green - 10%\n",
    "    - Orange - 10%\n",
    "    - Tan - 10%\n",
    "    \n",
    "- In Bag 2, the mix of colors is:\n",
    "    - Blue - 24%\n",
    "    - Green - 20%\n",
    "    - Orange - 16%\n",
    "    - Yellow - 14%\n",
    "    - Red - 13%\n",
    "    - Brown - 13%\n",
    "    \n",
    "Not knowing which bag is which, you randomly draw one candy from each bag. One is yellow and one is green. What is the probability that the yellow one came from the Bag 1?\n",
    "\n",
    "*Hint: For the likelihoods, you will need to multiply the probabilities of drawing yellow from one bag and green from the other bag and vice versa.*"
   ]
  },
  {
   "cell_type": "code",
   "execution_count": 11,
   "metadata": {},
   "outputs": [
    {
     "name": "stdout",
     "output_type": "stream",
     "text": [
      "0.7407407407407407\n"
     ]
    }
   ],
   "source": [
    "#We assume that both bags have the same amount of candies. So the probability of choosing any is 0.5\n",
    "#If the yellow candy came from bag 1 then the green one came from the bag 2:\n",
    "#There's a 20% probability that yellow came from bag 1 and also 20% that green came from bag 2:\n",
    "#Likelihood = 20*20*(0.5) = 200\n",
    "#Likelihood2 = 14*10*(0.5) = 70\n",
    "#Posterior = 200/270 = 20/27\n",
    "#Posterior2 = 70/270 = 7/27\n",
    "\n",
    "P1 = 20/27\n",
    "print(P1)"
   ]
  },
  {
   "cell_type": "markdown",
   "metadata": {},
   "source": [
    "What is the probability that the yellow candy came from Bag 2?"
   ]
  },
  {
   "cell_type": "code",
   "execution_count": 12,
   "metadata": {},
   "outputs": [
    {
     "name": "stdout",
     "output_type": "stream",
     "text": [
      "0.25925925925925924\n"
     ]
    }
   ],
   "source": [
    "P2 = 7/27\n",
    "print(P2)"
   ]
  },
  {
   "cell_type": "markdown",
   "metadata": {},
   "source": [
    "What are the probabilities that the green one came from Bag 1 and Bag 2 respectively?"
   ]
  },
  {
   "cell_type": "code",
   "execution_count": 13,
   "metadata": {},
   "outputs": [
    {
     "name": "stdout",
     "output_type": "stream",
     "text": [
      "0.7407407407407407\n",
      "0.25925925925925924\n"
     ]
    }
   ],
   "source": [
    "#Bag 1\n",
    "G1 = 20/27\n",
    "print(G1)\n",
    "\n",
    "#Bag2\n",
    "G2 = 7/27\n",
    "print (G2)\n"
   ]
  },
  {
   "cell_type": "markdown",
   "metadata": {},
   "source": [
    "## 3. Monty Hall Problem\n",
    "\n",
    "Suppose you are a contestant on the popular game show *Let's Make a Deal*. The host of the show (Monty Hall) presents you with three doors - Door A, Door B, and Door C. He tells you that there is a sports car behind one of them and if you choose the correct one, you win the car!\n",
    "\n",
    "You select Door A, but then Monty makes things a little more interesting. He opens Door B to reveal that there is no sports car behind it and asks you if you would like to stick with your choice of Door A or switch your choice to Door C. Given this new information, what are the probabilities of you winning the car if you stick with Door A versus if you switch to Door C?"
   ]
  },
  {
   "cell_type": "code",
   "execution_count": null,
   "metadata": {},
   "outputs": [],
   "source": [
    "#I would have a 1/3 chance if i keep my original answer, whereas I could improve them to 2/3 by changing my answer to Door C."
   ]
  },
  {
   "cell_type": "markdown",
   "metadata": {},
   "source": [
    "## 4. Bayesian Analysis \n",
    "\n",
    "Suppose you work for a landscaping company, and they want to advertise their service online. They create an ad and sit back waiting for the money to roll in. On the first day, the ad sends 100 visitors to the site and 14 of them sign up for landscaping services. Create a generative model to come up with the posterior distribution and produce a visualization of what the posterior distribution would look like given the observed data."
   ]
  },
  {
   "cell_type": "code",
   "execution_count": 16,
   "metadata": {},
   "outputs": [],
   "source": [
    "prior = pd.Series(np.random.uniform(0,1,size=1000000))\n",
    "simulated = [np.random.binomial(100,i) for i in prior]\n",
    "posterior = prior[[i== 14 for i in simulated]]"
   ]
  },
  {
   "cell_type": "markdown",
   "metadata": {},
   "source": [
    "Produce a set of descriptive statistics for the posterior distribution."
   ]
  },
  {
   "cell_type": "code",
   "execution_count": 17,
   "metadata": {},
   "outputs": [
    {
     "data": {
      "text/plain": [
       "0.009923"
      ]
     },
     "execution_count": 17,
     "metadata": {},
     "output_type": "execute_result"
    }
   ],
   "source": [
    "len(posterior)/len(prior)"
   ]
  },
  {
   "cell_type": "markdown",
   "metadata": {},
   "source": [
    "What is the 90% credible interval range?"
   ]
  },
  {
   "cell_type": "code",
   "execution_count": 18,
   "metadata": {},
   "outputs": [
    {
     "name": "stdout",
     "output_type": "stream",
     "text": [
      "0.7128573956207733\n",
      "70\n"
     ]
    }
   ],
   "source": [
    "print(prior[0])\n",
    "print(simulated[0])"
   ]
  },
  {
   "cell_type": "markdown",
   "metadata": {},
   "source": [
    "What is the Maximum Likelihood Estimate?"
   ]
  },
  {
   "cell_type": "code",
   "execution_count": 20,
   "metadata": {},
   "outputs": [
    {
     "data": {
      "text/plain": [
       "<matplotlib.axes._subplots.AxesSubplot at 0x1e6a7556a58>"
      ]
     },
     "execution_count": 20,
     "metadata": {},
     "output_type": "execute_result"
    },
    {
     "data": {
      "image/png": "[encoded data removed]",
      "text/plain": [
       "<Figure size 432x288 with 1 Axes>"
      ]
     },
     "metadata": {
      "needs_background": "light"
     },
     "output_type": "display_data"
    }
   ],
   "source": [
    "import seaborn as sns\n",
    "sns.distplot(posterior)"
   ]
  },
  {
   "cell_type": "code",
   "execution_count": null,
   "metadata": {},
   "outputs": [],
   "source": []
  }
 ],
 "metadata": {
  "kernelspec": {
   "display_name": "Python 3",
   "language": "python",
   "name": "python3"
  },
  "language_info": {
   "codemirror_mode": {
    "name": "ipython",
    "version": 3
   },
   "file_extension": ".py",
   "mimetype": "text/x-python",
   "name": "python",
   "nbconvert_exporter": "python",
   "pygments_lexer": "ipython3",
   "version": "3.7.3"
  }
 },
 "nbformat": 4,
 "nbformat_minor": 4
}
